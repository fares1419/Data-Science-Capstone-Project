{
 "cells": [
  {
   "cell_type": "markdown",
   "id": "da6b7c70",
   "metadata": {},
   "source": [
    "# Introduction"
   ]
  },
  {
   "cell_type": "markdown",
   "id": "3a3fde7d",
   "metadata": {},
   "source": [
    "In this project I will load and manipulate a Saudi Stock Exchange (Tadawul), the dataset has features:\n",
    "    \n",
    "symbol (Integer): The symbol or the reference number of the company\n",
    "\n",
    "name(String) Name of the company\n",
    "\n",
    "trading_name (String): The trading name of the company\n",
    "\n",
    "sectoer (String): The sector in which the company operates\n",
    "\n",
    "date (Date): The date of the stock price\n",
    "\n",
    "open (Decimal): The opening price\n",
    "\n",
    "high (Decimal): The highest price of the stock at that day\n",
    "\n",
    "low (Decimal): The lowest price of the stock at that day\n",
    "\n",
    "close (Decimal): The closing price\n",
    "\n",
    "change (Decimal): The change in price from the last day\n",
    "\n",
    "perc_Change (Decimal): The percentage of the change\n",
    "\n",
    "volume_traded (Decimal): The volume of the trades for the day\n",
    "\n",
    "value_traded (Decimal): The value of the trades for the day\n",
    "\n",
    "no_trades (Decimal): The number of trades for the day"
   ]
  },
  {
   "cell_type": "code",
   "execution_count": 2,
   "id": "c9e17bfc",
   "metadata": {},
   "outputs": [],
   "source": [
    "import pandas as pd\n",
    "import numpy as np"
   ]
  },
  {
   "cell_type": "markdown",
   "id": "34095953",
   "metadata": {},
   "source": [
    "# Load and Clean data"
   ]
  },
  {
   "cell_type": "code",
   "execution_count": 3,
   "id": "e618b34e",
   "metadata": {},
   "outputs": [],
   "source": [
    "df=pd.read_csv(r\"C:\\Users\\faris\\Data-Science-Capstone-Project\\Tadawul_stcks.csv\")"
   ]
  },
  {
   "cell_type": "code",
   "execution_count": 4,
   "id": "5cb1fcce",
   "metadata": {},
   "outputs": [
    {
     "name": "stdout",
     "output_type": "stream",
     "text": [
      "<class 'pandas.core.frame.DataFrame'>\n",
      "RangeIndex: 593819 entries, 0 to 593818\n",
      "Data columns (total 14 columns):\n",
      " #   Column          Non-Null Count   Dtype  \n",
      "---  ------          --------------   -----  \n",
      " 0   symbol          593819 non-null  int64  \n",
      " 1   name            593819 non-null  object \n",
      " 2   trading_name    593819 non-null  object \n",
      " 3   sectoer         593819 non-null  object \n",
      " 4   date            593819 non-null  object \n",
      " 5   open            587364 non-null  float64\n",
      " 6   high            587122 non-null  float64\n",
      " 7   low             587122 non-null  float64\n",
      " 8   close           593819 non-null  float64\n",
      " 9   change          593819 non-null  float64\n",
      " 10  perc_Change     593819 non-null  float64\n",
      " 11  volume_traded   593819 non-null  float64\n",
      " 12  value_traded    593819 non-null  float64\n",
      " 13  no_trades       586128 non-null  float64\n",
      "dtypes: float64(9), int64(1), object(4)\n",
      "memory usage: 63.4+ MB\n"
     ]
    }
   ],
   "source": [
    "df.info()"
   ]
  },
  {
   "cell_type": "code",
   "execution_count": 5,
   "id": "62913a7b",
   "metadata": {},
   "outputs": [
    {
     "data": {
      "text/plain": [
       "(593819, 14)"
      ]
     },
     "execution_count": 5,
     "metadata": {},
     "output_type": "execute_result"
    }
   ],
   "source": [
    "df.shape"
   ]
  },
  {
   "cell_type": "code",
   "execution_count": 6,
   "id": "1a781a45",
   "metadata": {},
   "outputs": [
    {
     "data": {
      "text/plain": [
       "symbol               0\n",
       "name                 0\n",
       "trading_name         0\n",
       "sectoer              0\n",
       "date                 0\n",
       "open              6455\n",
       "high              6697\n",
       "low               6697\n",
       "close                0\n",
       "change               0\n",
       "perc_Change          0\n",
       "volume_traded        0\n",
       "value_traded         0\n",
       "no_trades         7691\n",
       "dtype: int64"
      ]
     },
     "execution_count": 6,
     "metadata": {},
     "output_type": "execute_result"
    }
   ],
   "source": [
    "df.isnull().sum() #Checking null"
   ]
  },
  {
   "cell_type": "code",
   "execution_count": null,
   "id": "b1646622",
   "metadata": {},
   "outputs": [],
   "source": [
    "There are few nulls (compare to whole data) s"
   ]
  },
  {
   "cell_type": "code",
   "execution_count": null,
   "id": "109c3030",
   "metadata": {},
   "outputs": [],
   "source": []
  }
 ],
 "metadata": {
  "kernelspec": {
   "display_name": "Python 3 (ipykernel)",
   "language": "python",
   "name": "python3"
  },
  "language_info": {
   "codemirror_mode": {
    "name": "ipython",
    "version": 3
   },
   "file_extension": ".py",
   "mimetype": "text/x-python",
   "name": "python",
   "nbconvert_exporter": "python",
   "pygments_lexer": "ipython3",
   "version": "3.9.16"
  }
 },
 "nbformat": 4,
 "nbformat_minor": 5
}
